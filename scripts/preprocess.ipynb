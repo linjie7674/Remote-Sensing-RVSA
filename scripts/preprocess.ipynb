{
 "cells": [
  {
   "cell_type": "code",
   "execution_count": 31,
   "metadata": {},
   "outputs": [],
   "source": [
    "%reset -f"
   ]
  },
  {
   "cell_type": "code",
   "execution_count": 32,
   "metadata": {},
   "outputs": [],
   "source": [
    "import os\n",
    "import shutil\n",
    "import random\n",
    "import re"
   ]
  },
  {
   "cell_type": "code",
   "execution_count": 3,
   "metadata": {},
   "outputs": [
    {
     "name": "stdout",
     "output_type": "stream",
     "text": [
      "cls_name:  ['airplane', 'airport', 'baseball_diamond', 'basketball_court', 'beach', 'bridge', 'chaparral', 'church', 'circular_farmland', 'cloud', 'commercial_area', 'dense_residential', 'desert', 'forest', 'freeway', 'golf_course', 'ground_track_field', 'harbor', 'industrial_area', 'intersection', 'island', 'lake', 'meadow', 'medium_residential', 'mobile_home_park', 'mountain', 'overpass', 'palace', 'parking_lot', 'railway', 'railway_station', 'rectangular_farmland', 'river', 'roundabout', 'runway', 'sea_ice', 'ship', 'snowberg', 'sparse_residential', 'stadium', 'storage_tank', 'tennis_court', 'terrace', 'thermal_power_station', 'wetland']\n"
     ]
    }
   ],
   "source": [
    "# move all images into one folder\n",
    "dst_pth = \"../Dataset/NWPU-RESISC45/\"\n",
    "cls_names = os.listdir(dst_pth)\n",
    "print(\"cls_name: \", cls_names)\n",
    "for cls_name in cls_names:\n",
    "    cls_pth = os.path.join(dst_pth, cls_name)\n",
    "    img_names = os.listdir(cls_pth)\n",
    "    for img_name in img_names:\n",
    "        shutil.move(os.path.join(cls_pth, img_name), dst_pth)"
   ]
  },
  {
   "cell_type": "code",
   "execution_count": 33,
   "metadata": {},
   "outputs": [
    {
     "name": "stdout",
     "output_type": "stream",
     "text": [
      "cls2num:  {'airplane': 0, 'airport': 1, 'baseball_diamond': 2, 'basketball_court': 3, 'beach': 4, 'bridge': 5, 'chaparral': 6, 'church': 7, 'circular_farmland': 8, 'cloud': 9, 'commercial_area': 10, 'dense_residential': 11, 'desert': 12, 'forest': 13, 'freeway': 14, 'golf_course': 15, 'ground_track_field': 16, 'harbor': 17, 'industrial_area': 18, 'intersection': 19, 'island': 20, 'lake': 21, 'meadow': 22, 'medium_residential': 23, 'mobile_home_park': 24, 'mountain': 25, 'overpass': 26, 'palace': 27, 'parking_lot': 28, 'railway': 29, 'railway_station': 30, 'rectangular_farmland': 31, 'river': 32, 'roundabout': 33, 'runway': 34, 'sea_ice': 35, 'ship': 36, 'snowberg': 37, 'sparse_residential': 38, 'stadium': 39, 'storage_tank': 40, 'tennis_court': 41, 'terrace': 42, 'thermal_power_station': 43, 'wetland': 44}\n"
     ]
    }
   ],
   "source": [
    "# generate training dataset and test dataset\n",
    "img_path = \"../Dataset/NWPU-RESISC45/images/\"\n",
    "dst_pth = \"../Dataset/NWPU-RESISC45/\"\n",
    "split = \"28\"\n",
    "tag = \"0\"\n",
    "img_names = os.listdir(img_path)\n",
    "ids = list(range(len(img_names)))\n",
    "random.shuffle(ids)\n",
    "\n",
    "training_num_ratio = 0.2\n",
    "training_num = int(len(img_names) * training_num_ratio)\n",
    "train_ids = ids[:training_num]\n",
    "valid_ids = ids[training_num:]\n",
    "\n",
    "# map class name to number\n",
    "cls_names = ['airplane', 'airport', 'baseball_diamond', 'basketball_court', 'beach', 'bridge', 'chaparral', 'church', 'circular_farmland', 'cloud', 'commercial_area', 'dense_residential', 'desert', 'forest', 'freeway', 'golf_course', 'ground_track_field', 'harbor', 'industrial_area', 'intersection', 'island', 'lake', 'meadow', 'medium_residential', 'mobile_home_park', 'mountain', 'overpass', 'palace', 'parking_lot', 'railway', 'railway_station', 'rectangular_farmland', 'river', 'roundabout', 'runway', 'sea_ice', 'ship', 'snowberg', 'sparse_residential', 'stadium', 'storage_tank', 'tennis_court', 'terrace', 'thermal_power_station', 'wetland']\n",
    "cls2num = {}\n",
    "for i in range(len(cls_names)):\n",
    "    cls2num[cls_names[i]] = i\n",
    "print(\"cls2num: \", cls2num)\n",
    "\n",
    "with open(os.path.join(dst_pth, 'train_labels_{}_{}.txt'.format(split,tag)), \"w\") as f: \n",
    "    for id in train_ids:\n",
    "        img_name = img_names[id]\n",
    "        cls_name = re.search(\"\\D*\\d\", img_name).span()\n",
    "        cls_name = img_name[cls_name[0]: cls_name[1]][:-2]\n",
    "        cls_name = str(cls_name)\n",
    "        f.writelines([f\"{img_name} {cls_name} {cls2num[cls_name]}\\n\", ])\n",
    "with open(os.path.join(dst_pth, 'valid_labels_{}_{}.txt'.format(split,tag)), \"w\") as f:\n",
    "    for id in valid_ids:\n",
    "        img_name = img_names[id]\n",
    "        cls_name = re.search(\"\\D*\\d\", img_name).span()\n",
    "        cls_name = img_name[cls_name[0]: cls_name[1]][:-2]\n",
    "        cls_name = str(cls_name)\n",
    "        f.writelines([f\"{img_name} {cls_name} {cls2num[cls_name]}\\n\"])"
   ]
  },
  {
   "cell_type": "code",
   "execution_count": 26,
   "metadata": {},
   "outputs": [
    {
     "data": {
      "text/plain": [
       "15"
      ]
     },
     "execution_count": 26,
     "metadata": {},
     "output_type": "execute_result"
    }
   ],
   "source": [
    "cls2num[cls_name]"
   ]
  }
 ],
 "metadata": {
  "kernelspec": {
   "display_name": "Python 3",
   "language": "python",
   "name": "python3"
  },
  "language_info": {
   "codemirror_mode": {
    "name": "ipython",
    "version": 3
   },
   "file_extension": ".py",
   "mimetype": "text/x-python",
   "name": "python",
   "nbconvert_exporter": "python",
   "pygments_lexer": "ipython3",
   "version": "3.8.17"
  },
  "orig_nbformat": 4
 },
 "nbformat": 4,
 "nbformat_minor": 2
}
